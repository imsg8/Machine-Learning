{
  "cells": [
    {
      "cell_type": "markdown",
      "metadata": {},
      "source": [
        "# LINEAR REGRESSION"
      ]
    },
    {
      "cell_type": "code",
      "execution_count": 1,
      "metadata": {
        "id": "niXsBicrQEZ-"
      },
      "outputs": [],
      "source": [
        "\n",
        "import numpy as np\n",
        "import matplotlib.pyplot as plt\n",
        "import pandas as pd\n",
        "import seaborn as sns\n",
        "#%matplotlib inline"
      ]
    },
    {
      "cell_type": "code",
      "execution_count": 2,
      "metadata": {
        "id": "1Z-3u2GeR9cR"
      },
      "outputs": [],
      "source": [
        "path = 'datapath/to/ID/1000_Companies.csv'\n",
        "companies = pd.read_csv(path)\n",
        "X = companies.iloc[:, :-1].values\n",
        "y = companies.iloc[:, 4].values"
      ]
    },
    {
      "cell_type": "code",
      "execution_count": 3,
      "metadata": {
        "colab": {
          "base_uri": "https://localhost:8080/",
          "height": 206
        },
        "id": "K8liS8vVSBao",
        "outputId": "5ba7cad6-13a0-422d-c163-c7823c90b990"
      },
      "outputs": [
        {
          "data": {
            "text/html": [
              "<div>\n",
              "<style scoped>\n",
              "    .dataframe tbody tr th:only-of-type {\n",
              "        vertical-align: middle;\n",
              "    }\n",
              "\n",
              "    .dataframe tbody tr th {\n",
              "        vertical-align: top;\n",
              "    }\n",
              "\n",
              "    .dataframe thead th {\n",
              "        text-align: right;\n",
              "    }\n",
              "</style>\n",
              "<table border=\"1\" class=\"dataframe\">\n",
              "  <thead>\n",
              "    <tr style=\"text-align: right;\">\n",
              "      <th></th>\n",
              "      <th>R&amp;D Spend</th>\n",
              "      <th>Administration</th>\n",
              "      <th>Marketing Spend</th>\n",
              "      <th>State</th>\n",
              "      <th>Profit</th>\n",
              "    </tr>\n",
              "  </thead>\n",
              "  <tbody>\n",
              "    <tr>\n",
              "      <th>0</th>\n",
              "      <td>165349.20</td>\n",
              "      <td>136897.80</td>\n",
              "      <td>471784.10</td>\n",
              "      <td>New York</td>\n",
              "      <td>192261.83</td>\n",
              "    </tr>\n",
              "    <tr>\n",
              "      <th>1</th>\n",
              "      <td>162597.70</td>\n",
              "      <td>151377.59</td>\n",
              "      <td>443898.53</td>\n",
              "      <td>California</td>\n",
              "      <td>191792.06</td>\n",
              "    </tr>\n",
              "    <tr>\n",
              "      <th>2</th>\n",
              "      <td>153441.51</td>\n",
              "      <td>101145.55</td>\n",
              "      <td>407934.54</td>\n",
              "      <td>Florida</td>\n",
              "      <td>191050.39</td>\n",
              "    </tr>\n",
              "    <tr>\n",
              "      <th>3</th>\n",
              "      <td>144372.41</td>\n",
              "      <td>118671.85</td>\n",
              "      <td>383199.62</td>\n",
              "      <td>New York</td>\n",
              "      <td>182901.99</td>\n",
              "    </tr>\n",
              "    <tr>\n",
              "      <th>4</th>\n",
              "      <td>142107.34</td>\n",
              "      <td>91391.77</td>\n",
              "      <td>366168.42</td>\n",
              "      <td>Florida</td>\n",
              "      <td>166187.94</td>\n",
              "    </tr>\n",
              "  </tbody>\n",
              "</table>\n",
              "</div>"
            ],
            "text/plain": [
              "   R&D Spend  Administration  Marketing Spend       State     Profit\n",
              "0  165349.20       136897.80        471784.10    New York  192261.83\n",
              "1  162597.70       151377.59        443898.53  California  191792.06\n",
              "2  153441.51       101145.55        407934.54     Florida  191050.39\n",
              "3  144372.41       118671.85        383199.62    New York  182901.99\n",
              "4  142107.34        91391.77        366168.42     Florida  166187.94"
            ]
          },
          "execution_count": 3,
          "metadata": {},
          "output_type": "execute_result"
        }
      ],
      "source": [
        "companies.head()"
      ]
    },
    {
      "cell_type": "code",
      "execution_count": 4,
      "metadata": {
        "colab": {
          "base_uri": "https://localhost:8080/"
        },
        "id": "yeH95GNkSDdC",
        "outputId": "cfa737f2-1fec-452d-f5ca-872e4025166a"
      },
      "outputs": [
        {
          "name": "stdout",
          "output_type": "stream",
          "text": [
            "<class 'pandas.core.frame.DataFrame'>\n",
            "RangeIndex: 1000 entries, 0 to 999\n",
            "Data columns (total 5 columns):\n",
            " #   Column           Non-Null Count  Dtype  \n",
            "---  ------           --------------  -----  \n",
            " 0   R&D Spend        1000 non-null   float64\n",
            " 1   Administration   1000 non-null   float64\n",
            " 2   Marketing Spend  1000 non-null   float64\n",
            " 3   State            1000 non-null   object \n",
            " 4   Profit           1000 non-null   float64\n",
            "dtypes: float64(4), object(1)\n",
            "memory usage: 39.2+ KB\n"
          ]
        }
      ],
      "source": [
        "companies.info()"
      ]
    },
    {
      "cell_type": "code",
      "execution_count": 5,
      "metadata": {
        "colab": {
          "base_uri": "https://localhost:8080/",
          "height": 300
        },
        "id": "KVJ3pT2rSL6r",
        "outputId": "6ba1e904-6249-4575-f40c-f9be9e48924e"
      },
      "outputs": [
        {
          "data": {
            "text/html": [
              "<div>\n",
              "<style scoped>\n",
              "    .dataframe tbody tr th:only-of-type {\n",
              "        vertical-align: middle;\n",
              "    }\n",
              "\n",
              "    .dataframe tbody tr th {\n",
              "        vertical-align: top;\n",
              "    }\n",
              "\n",
              "    .dataframe thead th {\n",
              "        text-align: right;\n",
              "    }\n",
              "</style>\n",
              "<table border=\"1\" class=\"dataframe\">\n",
              "  <thead>\n",
              "    <tr style=\"text-align: right;\">\n",
              "      <th></th>\n",
              "      <th>R&amp;D Spend</th>\n",
              "      <th>Administration</th>\n",
              "      <th>Marketing Spend</th>\n",
              "      <th>Profit</th>\n",
              "    </tr>\n",
              "  </thead>\n",
              "  <tbody>\n",
              "    <tr>\n",
              "      <th>count</th>\n",
              "      <td>1000.000000</td>\n",
              "      <td>1000.000000</td>\n",
              "      <td>1000.000000</td>\n",
              "      <td>1000.000000</td>\n",
              "    </tr>\n",
              "    <tr>\n",
              "      <th>mean</th>\n",
              "      <td>81668.927200</td>\n",
              "      <td>122963.897612</td>\n",
              "      <td>226205.058419</td>\n",
              "      <td>119546.164656</td>\n",
              "    </tr>\n",
              "    <tr>\n",
              "      <th>std</th>\n",
              "      <td>46537.567891</td>\n",
              "      <td>12613.927535</td>\n",
              "      <td>91578.393542</td>\n",
              "      <td>42888.633848</td>\n",
              "    </tr>\n",
              "    <tr>\n",
              "      <th>min</th>\n",
              "      <td>0.000000</td>\n",
              "      <td>51283.140000</td>\n",
              "      <td>0.000000</td>\n",
              "      <td>14681.400000</td>\n",
              "    </tr>\n",
              "    <tr>\n",
              "      <th>25%</th>\n",
              "      <td>43084.500000</td>\n",
              "      <td>116640.684850</td>\n",
              "      <td>150969.584600</td>\n",
              "      <td>85943.198543</td>\n",
              "    </tr>\n",
              "    <tr>\n",
              "      <th>50%</th>\n",
              "      <td>79936.000000</td>\n",
              "      <td>122421.612150</td>\n",
              "      <td>224517.887350</td>\n",
              "      <td>117641.466300</td>\n",
              "    </tr>\n",
              "    <tr>\n",
              "      <th>75%</th>\n",
              "      <td>124565.500000</td>\n",
              "      <td>129139.118000</td>\n",
              "      <td>308189.808525</td>\n",
              "      <td>155577.107425</td>\n",
              "    </tr>\n",
              "    <tr>\n",
              "      <th>max</th>\n",
              "      <td>165349.200000</td>\n",
              "      <td>321652.140000</td>\n",
              "      <td>471784.100000</td>\n",
              "      <td>476485.430000</td>\n",
              "    </tr>\n",
              "  </tbody>\n",
              "</table>\n",
              "</div>"
            ],
            "text/plain": [
              "           R&D Spend  Administration  Marketing Spend         Profit\n",
              "count    1000.000000     1000.000000      1000.000000    1000.000000\n",
              "mean    81668.927200   122963.897612    226205.058419  119546.164656\n",
              "std     46537.567891    12613.927535     91578.393542   42888.633848\n",
              "min         0.000000    51283.140000         0.000000   14681.400000\n",
              "25%     43084.500000   116640.684850    150969.584600   85943.198543\n",
              "50%     79936.000000   122421.612150    224517.887350  117641.466300\n",
              "75%    124565.500000   129139.118000    308189.808525  155577.107425\n",
              "max    165349.200000   321652.140000    471784.100000  476485.430000"
            ]
          },
          "execution_count": 5,
          "metadata": {},
          "output_type": "execute_result"
        }
      ],
      "source": [
        "companies.describe()"
      ]
    },
    {
      "cell_type": "code",
      "execution_count": 6,
      "metadata": {
        "colab": {
          "base_uri": "https://localhost:8080/"
        },
        "id": "jcvRGF3aSOvU",
        "outputId": "48b6da0b-a37e-4f68-ed5e-5ad72ee8a51d"
      },
      "outputs": [
        {
          "data": {
            "text/plain": [
              "R&D Spend          0\n",
              "Administration     0\n",
              "Marketing Spend    0\n",
              "State              0\n",
              "Profit             0\n",
              "dtype: int64"
            ]
          },
          "execution_count": 6,
          "metadata": {},
          "output_type": "execute_result"
        }
      ],
      "source": [
        "companies.isna().sum()"
      ]
    },
    {
      "cell_type": "code",
      "execution_count": 7,
      "metadata": {
        "colab": {
          "base_uri": "https://localhost:8080/",
          "height": 174
        },
        "id": "gGetXY4tST_V",
        "outputId": "411caeb3-8d81-4433-a945-0b7f55bde416"
      },
      "outputs": [
        {
          "data": {
            "text/html": [
              "<div>\n",
              "<style scoped>\n",
              "    .dataframe tbody tr th:only-of-type {\n",
              "        vertical-align: middle;\n",
              "    }\n",
              "\n",
              "    .dataframe tbody tr th {\n",
              "        vertical-align: top;\n",
              "    }\n",
              "\n",
              "    .dataframe thead th {\n",
              "        text-align: right;\n",
              "    }\n",
              "</style>\n",
              "<table border=\"1\" class=\"dataframe\">\n",
              "  <thead>\n",
              "    <tr style=\"text-align: right;\">\n",
              "      <th></th>\n",
              "      <th>R&amp;D Spend</th>\n",
              "      <th>Administration</th>\n",
              "      <th>Marketing Spend</th>\n",
              "      <th>Profit</th>\n",
              "    </tr>\n",
              "  </thead>\n",
              "  <tbody>\n",
              "    <tr>\n",
              "      <th>R&amp;D Spend</th>\n",
              "      <td>1.000000</td>\n",
              "      <td>0.582434</td>\n",
              "      <td>0.978407</td>\n",
              "      <td>0.945245</td>\n",
              "    </tr>\n",
              "    <tr>\n",
              "      <th>Administration</th>\n",
              "      <td>0.582434</td>\n",
              "      <td>1.000000</td>\n",
              "      <td>0.520465</td>\n",
              "      <td>0.741560</td>\n",
              "    </tr>\n",
              "    <tr>\n",
              "      <th>Marketing Spend</th>\n",
              "      <td>0.978407</td>\n",
              "      <td>0.520465</td>\n",
              "      <td>1.000000</td>\n",
              "      <td>0.917270</td>\n",
              "    </tr>\n",
              "    <tr>\n",
              "      <th>Profit</th>\n",
              "      <td>0.945245</td>\n",
              "      <td>0.741560</td>\n",
              "      <td>0.917270</td>\n",
              "      <td>1.000000</td>\n",
              "    </tr>\n",
              "  </tbody>\n",
              "</table>\n",
              "</div>"
            ],
            "text/plain": [
              "                 R&D Spend  Administration  Marketing Spend    Profit\n",
              "R&D Spend         1.000000        0.582434         0.978407  0.945245\n",
              "Administration    0.582434        1.000000         0.520465  0.741560\n",
              "Marketing Spend   0.978407        0.520465         1.000000  0.917270\n",
              "Profit            0.945245        0.741560         0.917270  1.000000"
            ]
          },
          "execution_count": 7,
          "metadata": {},
          "output_type": "execute_result"
        }
      ],
      "source": [
        "companies.corr(numeric_only=True)"
      ]
    },
    {
      "cell_type": "code",
      "execution_count": 8,
      "metadata": {
        "colab": {
          "base_uri": "https://localhost:8080/",
          "height": 556
        },
        "id": "td8twlBMSVp8",
        "outputId": "f9021055-fa40-47a6-bd85-97e35751499f"
      },
      "outputs": [
        {
          "data": {
            "text/plain": [
              "<Axes: >"
            ]
          },
          "execution_count": 8,
          "metadata": {},
          "output_type": "execute_result"
        },
        {
          "data": {
            "image/png": "[encoded data removed]",
            "text/plain": [
              "<Figure size 640x480 with 2 Axes>"
            ]
          },
          "metadata": {},
          "output_type": "display_data"
        }
      ],
      "source": [
        "sns.heatmap(companies.corr(numeric_only=True))"
      ]
    },
    {
      "cell_type": "code",
      "execution_count": 9,
      "metadata": {
        "colab": {
          "base_uri": "https://localhost:8080/",
          "height": 449
        },
        "id": "2_Oi6mIsScXY",
        "outputId": "794cc0c7-7b4a-47de-9a02-a5a94bf3e6e2"
      },
      "outputs": [
        {
          "data": {
            "image/png": "[encoded data removed]",
            "text/plain": [
              "<Figure size 640x480 with 1 Axes>"
            ]
          },
          "metadata": {},
          "output_type": "display_data"
        }
      ],
      "source": [
        "sns.scatterplot(data=companies, x='R&D Spend', y='Profit')\n",
        "sns.scatterplot(data=companies, x='Administration', y='Profit')\n",
        "sns.scatterplot(data=companies, x='Marketing Spend', y='Profit')\n",
        "\n",
        "plt.show()"
      ]
    },
    {
      "cell_type": "code",
      "execution_count": 10,
      "metadata": {
        "id": "LQ0qcVGASo99"
      },
      "outputs": [],
      "source": [
        "from sklearn.model_selection import train_test_split\n",
        "X_train, X_test, y_train, y_test = train_test_split(X, y, test_size = 0.2, random_state = 0)"
      ]
    },
    {
      "cell_type": "code",
      "execution_count": 11,
      "metadata": {
        "colab": {
          "base_uri": "https://localhost:8080/",
          "height": 74
        },
        "id": "5cX1EMzESsDB",
        "outputId": "6c99ab1d-25fd-49c4-fae0-8da3d68de858"
      },
      "outputs": [
        {
          "data": {
            "text/html": [
              "<style>#sk-container-id-1 {color: black;}#sk-container-id-1 pre{padding: 0;}#sk-container-id-1 div.sk-toggleable {background-color: white;}#sk-container-id-1 label.sk-toggleable__label {cursor: pointer;display: block;width: 100%;margin-bottom: 0;padding: 0.3em;box-sizing: border-box;text-align: center;}#sk-container-id-1 label.sk-toggleable__label-arrow:before {content: \"▸\";float: left;margin-right: 0.25em;color: #696969;}#sk-container-id-1 label.sk-toggleable__label-arrow:hover:before {color: black;}#sk-container-id-1 div.sk-estimator:hover label.sk-toggleable__label-arrow:before {color: black;}#sk-container-id-1 div.sk-toggleable__content {max-height: 0;max-width: 0;overflow: hidden;text-align: left;background-color: #f0f8ff;}#sk-container-id-1 div.sk-toggleable__content pre {margin: 0.2em;color: black;border-radius: 0.25em;background-color: #f0f8ff;}#sk-container-id-1 input.sk-toggleable__control:checked~div.sk-toggleable__content {max-height: 200px;max-width: 100%;overflow: auto;}#sk-container-id-1 input.sk-toggleable__control:checked~label.sk-toggleable__label-arrow:before {content: \"▾\";}#sk-container-id-1 div.sk-estimator input.sk-toggleable__control:checked~label.sk-toggleable__label {background-color: #d4ebff;}#sk-container-id-1 div.sk-label input.sk-toggleable__control:checked~label.sk-toggleable__label {background-color: #d4ebff;}#sk-container-id-1 input.sk-hidden--visually {border: 0;clip: rect(1px 1px 1px 1px);clip: rect(1px, 1px, 1px, 1px);height: 1px;margin: -1px;overflow: hidden;padding: 0;position: absolute;width: 1px;}#sk-container-id-1 div.sk-estimator {font-family: monospace;background-color: #f0f8ff;border: 1px dotted black;border-radius: 0.25em;box-sizing: border-box;margin-bottom: 0.5em;}#sk-container-id-1 div.sk-estimator:hover {background-color: #d4ebff;}#sk-container-id-1 div.sk-parallel-item::after {content: \"\";width: 100%;border-bottom: 1px solid gray;flex-grow: 1;}#sk-container-id-1 div.sk-label:hover label.sk-toggleable__label {background-color: #d4ebff;}#sk-container-id-1 div.sk-serial::before {content: \"\";position: absolute;border-left: 1px solid gray;box-sizing: border-box;top: 0;bottom: 0;left: 50%;z-index: 0;}#sk-container-id-1 div.sk-serial {display: flex;flex-direction: column;align-items: center;background-color: white;padding-right: 0.2em;padding-left: 0.2em;position: relative;}#sk-container-id-1 div.sk-item {position: relative;z-index: 1;}#sk-container-id-1 div.sk-parallel {display: flex;align-items: stretch;justify-content: center;background-color: white;position: relative;}#sk-container-id-1 div.sk-item::before, #sk-container-id-1 div.sk-parallel-item::before {content: \"\";position: absolute;border-left: 1px solid gray;box-sizing: border-box;top: 0;bottom: 0;left: 50%;z-index: -1;}#sk-container-id-1 div.sk-parallel-item {display: flex;flex-direction: column;z-index: 1;position: relative;background-color: white;}#sk-container-id-1 div.sk-parallel-item:first-child::after {align-self: flex-end;width: 50%;}#sk-container-id-1 div.sk-parallel-item:last-child::after {align-self: flex-start;width: 50%;}#sk-container-id-1 div.sk-parallel-item:only-child::after {width: 0;}#sk-container-id-1 div.sk-dashed-wrapped {border: 1px dashed gray;margin: 0 0.4em 0.5em 0.4em;box-sizing: border-box;padding-bottom: 0.4em;background-color: white;}#sk-container-id-1 div.sk-label label {font-family: monospace;font-weight: bold;display: inline-block;line-height: 1.2em;}#sk-container-id-1 div.sk-label-container {text-align: center;}#sk-container-id-1 div.sk-container {/* jupyter's `normalize.less` sets `[hidden] { display: none; }` but bootstrap.min.css set `[hidden] { display: none !important; }` so we also need the `!important` here to be able to override the default hidden behavior on the sphinx rendered scikit-learn.org. See: https://github.com/scikit-learn/scikit-learn/issues/21755 */display: inline-block !important;position: relative;}#sk-container-id-1 div.sk-text-repr-fallback {display: none;}</style><div id=\"sk-container-id-1\" class=\"sk-top-container\"><div class=\"sk-text-repr-fallback\"><pre>LinearRegression()</pre><b>In a Jupyter environment, please rerun this cell to show the HTML representation or trust the notebook. <br />On GitHub, the HTML representation is unable to render, please try loading this page with nbviewer.org.</b></div><div class=\"sk-container\" hidden><div class=\"sk-item\"><div class=\"sk-estimator sk-toggleable\"><input class=\"sk-toggleable__control sk-hidden--visually\" id=\"sk-estimator-id-1\" type=\"checkbox\" checked><label for=\"sk-estimator-id-1\" class=\"sk-toggleable__label sk-toggleable__label-arrow\">LinearRegression</label><div class=\"sk-toggleable__content\"><pre>LinearRegression()</pre></div></div></div></div></div>"
            ],
            "text/plain": [
              "LinearRegression()"
            ]
          },
          "execution_count": 11,
          "metadata": {},
          "output_type": "execute_result"
        }
      ],
      "source": [
        "from sklearn.compose import ColumnTransformer\n",
        "from sklearn.preprocessing import OneHotEncoder\n",
        "ct = ColumnTransformer(transformers=[('encoder', OneHotEncoder(), [3])], remainder='passthrough')\n",
        "X_train = ct.fit_transform(X_train)\n",
        "X_test = ct.transform(X_test)\n",
        "from sklearn.linear_model import LinearRegression\n",
        "regressor = LinearRegression()\n",
        "regressor.fit(X_train, y_train)"
      ]
    },
    {
      "cell_type": "code",
      "execution_count": 13,
      "metadata": {
        "colab": {
          "base_uri": "https://localhost:8080/"
        },
        "id": "0WI8mpB3TgaA",
        "outputId": "ae24729c-0659-45df-c617-e503f736a150"
      },
      "outputs": [
        {
          "data": {
            "text/plain": [
              "array([ 89790.61532916,  88427.07187362,  94894.67836972, 175680.86725608,\n",
              "        83411.7304209 , 110571.90200075, 132145.2293644 ,  91473.37719687,\n",
              "       164597.05380605,  53222.82667403,  66950.19050991, 150566.43987003,\n",
              "       126915.20858596,  59337.85971052, 177513.9105306 ,  75316.28143052,\n",
              "       118248.14406603, 164574.406999  , 170937.28981069, 182069.11645082,\n",
              "       118845.0325269 ,  85669.9511223 , 180992.59396141,  84145.08220146,\n",
              "       105005.83769214, 101233.56772747,  53831.07669094,  56881.41475226,\n",
              "        68896.39346906, 210040.00765881, 120778.72270894, 111724.87157655,\n",
              "       101487.90541518, 137959.02649623,  63969.95996745, 108857.91214127,\n",
              "       186014.72531986, 171442.64130745, 174644.26529203, 117671.49128195,\n",
              "        96731.37857434, 165452.25779408, 107724.34331255,  50194.54176915,\n",
              "       116513.89532178,  58632.48986822, 158416.46827608,  78541.48521611,\n",
              "       159727.66671742, 131137.87699643, 184880.70924514, 174609.08266878,\n",
              "        93745.6635206 ,  78341.13383419, 180745.90439078,  84461.61490553,\n",
              "       142900.90602902, 170618.44098395,  84365.0953084 , 105307.37162181,\n",
              "       141660.07290786,  52527.34340444, 141842.9626416 , 139176.27973194,\n",
              "        98294.52669667, 113586.86790969, 126754.21895489, 152135.51985561,\n",
              "        58864.51658957, 174285.57361128, 124624.04380783, 169065.77658977,\n",
              "        91279.3319821 , 156170.37268961,  84307.26579367,  77877.75223098,\n",
              "       120414.02421346,  93380.44273242, 139020.6251412 , 143604.67103572,\n",
              "       171148.30815366, 140082.97050131, 106369.71689747, 155641.43851386,\n",
              "       140030.10330036, 110172.87893525,  69672.98677566,  88148.52068042,\n",
              "       140133.59925092, 148479.09537887, 157916.63505256,  58532.94863143,\n",
              "        93707.38422391, 112646.37475705,  56556.18943662, 107414.89996182,\n",
              "       147352.80227751, 152144.10104033, 167808.11701782, 118750.25230713,\n",
              "       120763.27666701, 139029.95295662, 157527.90934118, 121962.06214959,\n",
              "        87091.32399738, 104792.91384334,  95335.22679186, 178389.52287434,\n",
              "       181942.63776379, 109831.34945507, 165254.03344095, 167806.06491901,\n",
              "       158002.44642542, 174782.86900955, 170196.77102697,  52302.18161614,\n",
              "       176938.11595788, 104751.83583866,  82710.31528806, 138890.52767844,\n",
              "       144274.74675424, 161679.01836439, 169662.05445893, 120450.92310129,\n",
              "       158880.70799545, 110213.73252825, 169674.51532365,  60760.61300843,\n",
              "       159036.99629067, 158169.44286047, 174511.70494474, 156294.79927783,\n",
              "       103714.37583212,  85635.96237575, 141603.54878756, 165917.69156979,\n",
              "       121182.03641977, 170751.87883893, 100505.77549412,  82097.51033129,\n",
              "       178643.18879841, 101790.48384579,  70507.40958623,  90250.0423009 ,\n",
              "        61247.49962682,  68912.17534522,  72775.81613477, 176914.08873122,\n",
              "        89704.69244932, 129209.43730016,  92672.90938383,  88133.59175044,\n",
              "       172836.33021617,  60893.62070016, 169015.89446009, 166450.24453203,\n",
              "       165425.54476413, 102170.5169499 , 181594.57928214,  73702.57942563,\n",
              "        91267.42979669, 135791.54160195,  64922.80257302,  71775.70235728,\n",
              "        60603.91401517, 184288.61041913, 176286.69585943, 158907.75687038,\n",
              "       141359.32216438, 154611.1792832 ,  58549.58863235,  90618.58407899,\n",
              "       152885.51163924, 168398.05223803,  72485.36274541, 116064.24350667,\n",
              "        80087.80697209, 149828.90896187, 116806.95957371, 130191.4884516 ,\n",
              "       174534.42670327, 293584.45948282, 146270.83174788, 150646.69178013,\n",
              "        86107.47782248,  69967.20842247,  70096.78368774,  69033.6917077 ,\n",
              "       120666.75708064,  89677.68014065, 166824.27091661, 125514.76626409,\n",
              "        67209.67687468, 140930.69427701, 118544.30490695, 165897.61905905,\n",
              "       168655.4865255 , 147009.66805048, 141396.22104146, 109086.50634849])"
            ]
          },
          "execution_count": 13,
          "metadata": {},
          "output_type": "execute_result"
        }
      ],
      "source": [
        "y_pred = regressor.predict(X_test)\n",
        "y_pred"
      ]
    },
    {
      "cell_type": "code",
      "execution_count": 14,
      "metadata": {
        "colab": {
          "base_uri": "https://localhost:8080/"
        },
        "id": "9pwIC3FpTike",
        "outputId": "8bb5552c-e82a-415c-d34a-cb15adf26603"
      },
      "outputs": [
        {
          "name": "stdout",
          "output_type": "stream",
          "text": [
            "[ 5.26235224e+02 -3.54301375e+02 -1.71933849e+02  5.25845857e-01\n",
            "  8.44390881e-01  1.07574255e-01]\n"
          ]
        }
      ],
      "source": [
        "print(regressor.coef_)"
      ]
    },
    {
      "cell_type": "code",
      "execution_count": 15,
      "metadata": {
        "colab": {
          "base_uri": "https://localhost:8080/"
        },
        "id": "CaUg5olXToIC",
        "outputId": "bf12d5b8-c502-43fb-f2d9-2504757ecb0c"
      },
      "outputs": [
        {
          "name": "stdout",
          "output_type": "stream",
          "text": [
            "-51561.46494775577\n"
          ]
        }
      ],
      "source": [
        "print(regressor.intercept_)"
      ]
    },
    {
      "cell_type": "code",
      "execution_count": 22,
      "metadata": {
        "colab": {
          "base_uri": "https://localhost:8080/"
        },
        "id": "DBBmFZtWTrjb",
        "outputId": "dabdd91e-ad14-47c2-b397-e154f9a4eae5"
      },
      "outputs": [
        {
          "data": {
            "text/plain": [
              "91.12695892268799"
            ]
          },
          "execution_count": 22,
          "metadata": {},
          "output_type": "execute_result"
        }
      ],
      "source": [
        "from sklearn.metrics import r2_score\n",
        "100*r2_score(y_test, y_pred)"
      ]
    }
  ],
  "metadata": {
    "colab": {
      "provenance": []
    },
    "kernelspec": {
      "display_name": "Python 3",
      "name": "python3"
    },
    "language_info": {
      "codemirror_mode": {
        "name": "ipython",
        "version": 3
      },
      "file_extension": ".py",
      "mimetype": "text/x-python",
      "name": "python",
      "nbconvert_exporter": "python",
      "pygments_lexer": "ipython3",
      "version": "3.9.6"
    }
  },
  "nbformat": 4,
  "nbformat_minor": 0
}
